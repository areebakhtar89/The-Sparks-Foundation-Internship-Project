{
 "cells": [
  {
   "cell_type": "markdown",
   "metadata": {},
   "source": [
    "## Prediction Using Supervised Machine Learning."
   ]
  },
  {
   "cell_type": "markdown",
   "metadata": {},
   "source": [
    "#### This project shows the application of regression algorithms. Here, different algorithms are applied to predict the score of a student if he/she spends some defined hours on study."
   ]
  },
  {
   "cell_type": "code",
   "execution_count": 1,
   "metadata": {
    "ExecuteTime": {
     "end_time": "2020-11-08T14:39:17.026530Z",
     "start_time": "2020-11-08T14:39:15.647115Z"
    }
   },
   "outputs": [],
   "source": [
    "import pandas as pd\n",
    "import matplotlib.pyplot as plt\n",
    "import math\n",
    "from sklearn.model_selection import train_test_split\n",
    "from sklearn.preprocessing import StandardScaler\n",
    "from sklearn.metrics import mean_squared_error\n",
    "from sklearn.metrics import mean_absolute_error"
   ]
  },
  {
   "cell_type": "code",
   "execution_count": 2,
   "metadata": {
    "ExecuteTime": {
     "end_time": "2020-11-08T14:39:17.032452Z",
     "start_time": "2020-11-08T14:39:17.027460Z"
    }
   },
   "outputs": [],
   "source": [
    "df = pd.read_csv('data.csv')"
   ]
  },
  {
   "cell_type": "code",
   "execution_count": 3,
   "metadata": {
    "ExecuteTime": {
     "end_time": "2020-11-08T14:39:17.076363Z",
     "start_time": "2020-11-08T14:39:17.034443Z"
    }
   },
   "outputs": [
    {
     "data": {
      "text/html": [
       "<div>\n",
       "<style scoped>\n",
       "    .dataframe tbody tr th:only-of-type {\n",
       "        vertical-align: middle;\n",
       "    }\n",
       "\n",
       "    .dataframe tbody tr th {\n",
       "        vertical-align: top;\n",
       "    }\n",
       "\n",
       "    .dataframe thead th {\n",
       "        text-align: right;\n",
       "    }\n",
       "</style>\n",
       "<table border=\"1\" class=\"dataframe\">\n",
       "  <thead>\n",
       "    <tr style=\"text-align: right;\">\n",
       "      <th></th>\n",
       "      <th>Hours</th>\n",
       "      <th>Scores</th>\n",
       "    </tr>\n",
       "  </thead>\n",
       "  <tbody>\n",
       "    <tr>\n",
       "      <th>0</th>\n",
       "      <td>2.5</td>\n",
       "      <td>21</td>\n",
       "    </tr>\n",
       "    <tr>\n",
       "      <th>1</th>\n",
       "      <td>5.1</td>\n",
       "      <td>47</td>\n",
       "    </tr>\n",
       "    <tr>\n",
       "      <th>2</th>\n",
       "      <td>3.2</td>\n",
       "      <td>27</td>\n",
       "    </tr>\n",
       "    <tr>\n",
       "      <th>3</th>\n",
       "      <td>8.5</td>\n",
       "      <td>75</td>\n",
       "    </tr>\n",
       "    <tr>\n",
       "      <th>4</th>\n",
       "      <td>3.5</td>\n",
       "      <td>30</td>\n",
       "    </tr>\n",
       "  </tbody>\n",
       "</table>\n",
       "</div>"
      ],
      "text/plain": [
       "   Hours  Scores\n",
       "0    2.5      21\n",
       "1    5.1      47\n",
       "2    3.2      27\n",
       "3    8.5      75\n",
       "4    3.5      30"
      ]
     },
     "execution_count": 3,
     "metadata": {},
     "output_type": "execute_result"
    }
   ],
   "source": [
    "df.head(5)"
   ]
  },
  {
   "cell_type": "code",
   "execution_count": 4,
   "metadata": {
    "ExecuteTime": {
     "end_time": "2020-11-08T14:39:17.092321Z",
     "start_time": "2020-11-08T14:39:17.078326Z"
    }
   },
   "outputs": [
    {
     "data": {
      "text/plain": [
       "Hours     0\n",
       "Scores    0\n",
       "dtype: int64"
      ]
     },
     "execution_count": 4,
     "metadata": {},
     "output_type": "execute_result"
    }
   ],
   "source": [
    "df.isnull().sum()"
   ]
  },
  {
   "cell_type": "code",
   "execution_count": 5,
   "metadata": {
    "ExecuteTime": {
     "end_time": "2020-11-08T14:39:17.125255Z",
     "start_time": "2020-11-08T14:39:17.094284Z"
    }
   },
   "outputs": [
    {
     "data": {
      "text/plain": [
       "(25, 2)"
      ]
     },
     "execution_count": 5,
     "metadata": {},
     "output_type": "execute_result"
    }
   ],
   "source": [
    "df.shape"
   ]
  },
  {
   "cell_type": "code",
   "execution_count": 6,
   "metadata": {
    "ExecuteTime": {
     "end_time": "2020-11-08T14:39:17.142211Z",
     "start_time": "2020-11-08T14:39:17.126221Z"
    }
   },
   "outputs": [],
   "source": [
    "X = df.iloc[:,:-1].values\n",
    "Y = df.iloc[:,-1].values"
   ]
  },
  {
   "cell_type": "code",
   "execution_count": 7,
   "metadata": {
    "ExecuteTime": {
     "end_time": "2020-11-08T14:39:17.170105Z",
     "start_time": "2020-11-08T14:39:17.143177Z"
    }
   },
   "outputs": [],
   "source": [
    "# sc = StandardScaler()\n",
    "# X = sc.fit_transform(X)\n",
    "# Y = Y.reshape(-1,1)\n",
    "# Y = sc.fit_transform(Y)"
   ]
  },
  {
   "cell_type": "code",
   "execution_count": 8,
   "metadata": {
    "ExecuteTime": {
     "end_time": "2020-11-08T14:39:17.187084Z",
     "start_time": "2020-11-08T14:39:17.173105Z"
    }
   },
   "outputs": [],
   "source": [
    "X_train,X_test,Y_train,Y_test = train_test_split(X,Y,test_size=0.2,random_state=0)"
   ]
  },
  {
   "cell_type": "code",
   "execution_count": 9,
   "metadata": {
    "ExecuteTime": {
     "end_time": "2020-11-08T14:39:17.209003Z",
     "start_time": "2020-11-08T14:39:17.189054Z"
    }
   },
   "outputs": [
    {
     "name": "stdout",
     "output_type": "stream",
     "text": [
      "(20, 1)\n",
      "(5, 1)\n",
      "(20,)\n",
      "(5,)\n"
     ]
    }
   ],
   "source": [
    "print(X_train.shape)\n",
    "print(X_test.shape)\n",
    "print(Y_train.shape)\n",
    "print(Y_test.shape)"
   ]
  },
  {
   "cell_type": "markdown",
   "metadata": {},
   "source": [
    "### Linear Regression"
   ]
  },
  {
   "cell_type": "code",
   "execution_count": 10,
   "metadata": {
    "ExecuteTime": {
     "end_time": "2020-11-08T14:39:17.594971Z",
     "start_time": "2020-11-08T14:39:17.211994Z"
    }
   },
   "outputs": [
    {
     "name": "stdout",
     "output_type": "stream",
     "text": [
      "   Actual  Predicted\n",
      "0      20  16.884145\n",
      "1      27  33.732261\n",
      "2      69  75.357018\n",
      "3      30  26.794801\n",
      "4      62  60.491033\n",
      "predicted marks for 9.25 hr of study:  [93.69173249]\n",
      "Root Mean Squared Error 2.078401756505099\n",
      "Mean Squared Error 21.5987693072174\n",
      "Mean Absolute Error 4.183859899002975\n"
     ]
    },
    {
     "data": {
      "image/png": "[encoded data removed]",
      "text/plain": [
       "<Figure size 1008x288 with 2 Axes>"
      ]
     },
     "metadata": {
      "needs_background": "light"
     },
     "output_type": "display_data"
    }
   ],
   "source": [
    "from sklearn.linear_model import LinearRegression\n",
    "regressor = LinearRegression()\n",
    "\n",
    "regressor.fit(X_train,Y_train)\n",
    "\n",
    "regressor.predict(X_test)\n",
    "\n",
    "predicted = regressor.predict(X_test)\n",
    "\n",
    "# X_test = sc.inverse_transform(X_test)\n",
    "# X_train = sc.inverse_transform(X_train)\n",
    "# Y_test = sc.inverse_transform(Y_test)\n",
    "# Y_train = sc.inverse_transform(Y_train)\n",
    "# predicted =  sc.inverse_transform(predicted)\n",
    "df_res = pd.DataFrame({'Actual':Y_test,'Predicted':predicted})\n",
    "print(df_res)\n",
    "# print(Y_test.shape)\n",
    "# print(predicted.shape)\n",
    "print('predicted marks for 9.25 hr of study: ',regressor.predict([[9.25]]))\n",
    "\n",
    "sum=0\n",
    "for i in range(len(Y_test)):\n",
    "#     print(Y_test[i],predicted[i])\n",
    "    sum = sum + pow((Y_test[i]-predicted[i]),2)\n",
    "\n",
    "print('Root Mean Squared Error', math.sqrt(sum)/len(Y_test))\n",
    "print('Mean Squared Error', mean_squared_error(Y_test,predicted))\n",
    "print('Mean Absolute Error', mean_absolute_error(Y_test,predicted))\n",
    "\n",
    "fig, (ax1,ax2) = plt.subplots(1,2, figsize=(14,4))\n",
    "\n",
    "ax1.scatter(X_train, Y_train, color = 'red')\n",
    "ax1.plot(X_train, regressor.predict(X_train), color = 'blue')\n",
    "ax1.set(xlabel='Hour', ylabel='Score')\n",
    "ax1.set_title('Hour vs Scores (Training set)')\n",
    "\n",
    "ax2.scatter(X_test, Y_test, color = 'red')\n",
    "ax2.plot(X_test, regressor.predict(X_test), color = 'blue')\n",
    "ax2.set(xlabel='Hour', ylabel='Score')\n",
    "ax2.set_title('Hour vs Scores (Test set)')\n",
    "plt.show()"
   ]
  },
  {
   "cell_type": "markdown",
   "metadata": {},
   "source": [
    "### Support Vector Machine (Regressor)"
   ]
  },
  {
   "cell_type": "code",
   "execution_count": 11,
   "metadata": {
    "ExecuteTime": {
     "end_time": "2020-11-08T14:39:17.865246Z",
     "start_time": "2020-11-08T14:39:17.595966Z"
    },
    "scrolled": false
   },
   "outputs": [
    {
     "name": "stdout",
     "output_type": "stream",
     "text": [
      "   Actual  Predicted\n",
      "0      20   20.32500\n",
      "1      27   35.51875\n",
      "2      69   73.05625\n",
      "3      30   29.26250\n",
      "4      62   59.65000\n",
      "predicted marks for 9.25 hr of study:  [89.59062557]\n",
      "Root Mean Squared Error 1.951351342722181\n",
      "Mean Squared Error 19.038860313718292\n",
      "Mean Absolute Error 3.197500040038552\n"
     ]
    },
    {
     "data": {
      "image/png": "[encoded data removed]",
      "text/plain": [
       "<Figure size 1008x288 with 2 Axes>"
      ]
     },
     "metadata": {
      "needs_background": "light"
     },
     "output_type": "display_data"
    }
   ],
   "source": [
    "from sklearn.svm import SVR\n",
    "\n",
    "regressor = SVR('linear')\n",
    "\n",
    "regressor.fit(X_train,Y_train)\n",
    "\n",
    "regressor.predict(X_test)\n",
    "\n",
    "predicted = regressor.predict(X_test)\n",
    "df_res = pd.DataFrame({'Actual':Y_test,'Predicted':predicted})\n",
    "print(df_res)\n",
    "# print(Y_test.shape)\n",
    "# print(predicted.shape)\n",
    "print('predicted marks for 9.25 hr of study: ',regressor.predict([[9.25]]))\n",
    "\n",
    "sum=0\n",
    "for i in range(len(Y_test)):\n",
    "#     print(Y_test[i],predicted[i])\n",
    "    sum = sum + pow((Y_test[i]-predicted[i]),2)\n",
    "\n",
    "print('Root Mean Squared Error', math.sqrt(sum)/len(Y_test))\n",
    "print('Mean Squared Error', mean_squared_error(Y_test,predicted))\n",
    "print('Mean Absolute Error', mean_absolute_error(Y_test,predicted))\n",
    "\n",
    "fig, (ax1,ax2) = plt.subplots(1,2, figsize=(14,4))\n",
    "\n",
    "ax1.scatter(X_train, Y_train, color = 'red')\n",
    "ax1.plot(X_train, regressor.predict(X_train), color = 'blue')\n",
    "ax1.set(xlabel='Hour', ylabel='Score')\n",
    "ax1.set_title('Hour vs Scores (Training set)')\n",
    "\n",
    "ax2.scatter(X_test, Y_test, color = 'red')\n",
    "ax2.plot(X_test, regressor.predict(X_test), color = 'blue')\n",
    "ax2.set(xlabel='Hour', ylabel='Score')\n",
    "ax2.set_title('Hour vs Scores (Test set)')\n",
    "plt.show()"
   ]
  },
  {
   "cell_type": "markdown",
   "metadata": {},
   "source": [
    "### Lasso Regression"
   ]
  },
  {
   "cell_type": "code",
   "execution_count": 12,
   "metadata": {
    "ExecuteTime": {
     "end_time": "2020-11-08T14:39:18.133180Z",
     "start_time": "2020-11-08T14:39:17.867241Z"
    }
   },
   "outputs": [
    {
     "name": "stdout",
     "output_type": "stream",
     "text": [
      "   Actual  Predicted\n",
      "0      20  17.489479\n",
      "1      27  34.062443\n",
      "2      69  75.007413\n",
      "3      30  27.238282\n",
      "4      62  60.384210\n",
      "predicted marks for 9.25 hr of study:  [93.04269714]\n",
      "Root Mean Squared Error 2.0249216872881797\n",
      "Mean Squared Error 20.50153919825004\n",
      "Mean Absolute Error 3.9915771073417075\n"
     ]
    },
    {
     "data": {
      "image/png": "[encoded data removed]",
      "text/plain": [
       "<Figure size 1008x288 with 2 Axes>"
      ]
     },
     "metadata": {
      "needs_background": "light"
     },
     "output_type": "display_data"
    }
   ],
   "source": [
    "from sklearn.linear_model import Lasso\n",
    "\n",
    "regressor = Lasso()\n",
    "\n",
    "regressor.fit(X_train,Y_train)\n",
    "\n",
    "regressor.predict(X_test)\n",
    "\n",
    "predicted = regressor.predict(X_test)\n",
    "df_res = pd.DataFrame({'Actual':Y_test,'Predicted':predicted})\n",
    "print(df_res)\n",
    "# print(Y_test.shape)\n",
    "# print(predicted.shape)\n",
    "print('predicted marks for 9.25 hr of study: ',regressor.predict([[9.25]]))\n",
    "\n",
    "sum=0\n",
    "for i in range(len(Y_test)):\n",
    "#     print(Y_test[i],predicted[i])\n",
    "    sum = sum + pow((Y_test[i]-predicted[i]),2)\n",
    "\n",
    "print('Root Mean Squared Error', math.sqrt(sum)/len(Y_test))\n",
    "print('Mean Squared Error', mean_squared_error(Y_test,predicted))\n",
    "print('Mean Absolute Error', mean_absolute_error(Y_test,predicted))\n",
    "\n",
    "fig, (ax1,ax2) = plt.subplots(1,2, figsize=(14,4))\n",
    "\n",
    "ax1.scatter(X_train, Y_train, color = 'red')\n",
    "ax1.plot(X_train, regressor.predict(X_train), color = 'blue')\n",
    "ax1.set(xlabel='Hour', ylabel='Score')\n",
    "ax1.set_title('Hour vs Scores (Training set)')\n",
    "\n",
    "ax2.scatter(X_test, Y_test, color = 'red')\n",
    "ax2.plot(X_test, regressor.predict(X_test), color = 'blue')\n",
    "ax2.set(xlabel='Hour', ylabel='Score')\n",
    "ax2.set_title('Hour vs Scores (Test set)')\n",
    "plt.show()"
   ]
  },
  {
   "cell_type": "markdown",
   "metadata": {},
   "source": [
    "### Mean Absolute Error is least in SVM's Suopport Vector Regressor."
   ]
  }
 ],
 "metadata": {
  "kernelspec": {
   "display_name": "Python 3",
   "language": "python",
   "name": "python3"
  },
  "language_info": {
   "codemirror_mode": {
    "name": "ipython",
    "version": 3
   },
   "file_extension": ".py",
   "mimetype": "text/x-python",
   "name": "python",
   "nbconvert_exporter": "python",
   "pygments_lexer": "ipython3",
   "version": "3.7.6"
  },
  "toc": {
   "base_numbering": 1,
   "nav_menu": {},
   "number_sections": false,
   "sideBar": true,
   "skip_h1_title": false,
   "title_cell": "Table of Contents",
   "title_sidebar": "Contents",
   "toc_cell": false,
   "toc_position": {
    "height": "calc(100% - 180px)",
    "left": "10px",
    "top": "150px",
    "width": "215.188px"
   },
   "toc_section_display": true,
   "toc_window_display": true
  }
 },
 "nbformat": 4,
 "nbformat_minor": 4
}
